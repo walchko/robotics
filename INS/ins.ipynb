{
 "cells": [
  {
   "cell_type": "markdown",
   "metadata": {},
   "source": [
    "# Inertial Navigation\n",
    "\n",
    "Kevin J. Walchko, 1 Apr 2017\n",
    "\n",
    "---"
   ]
  },
  {
   "cell_type": "markdown",
   "metadata": {},
   "source": [
    "Blah ..."
   ]
  },
  {
   "cell_type": "code",
   "execution_count": null,
   "metadata": {
    "collapsed": true
   },
   "outputs": [],
   "source": []
  },
  {
   "cell_type": "code",
   "execution_count": null,
   "metadata": {
    "collapsed": true
   },
   "outputs": [],
   "source": []
  },
  {
   "cell_type": "markdown",
   "metadata": {},
   "source": [
    "# Inertial Measure Unit Error\n",
    "\n",
    "<img src=\"https://cdn.sparkfun.com//assets/parts/1/1/3/0/6/13762-00a.jpg\" width=\"300px\">"
   ]
  },
  {
   "cell_type": "markdown",
   "metadata": {},
   "source": [
    "Noise is the unwanted signal generated from internal electronics that interferes with measurement of the desired signal. The noise level will determine the minimum sensor output that is distinguishable from the background noise of the sensor or noise floor. Rate-noise density is specified in rms milli-g/rt-Hz (accelerometer) and rms dps/rt-Hz (gyro) and is a common spec used to quantify sensor white noise output for a given sensor bandwidth.\n",
    "\n",
    "$$\n",
    "Noise_{RMS} = NoiseDensity_{RMS} * \\sqrt{Bandwidth} \\\\\n",
    "Bandwidth = frequency - 3dB * K_{Filter}\n",
    "$$\n",
    "\n",
    "where $K_{Filter}$ is 1.57 (1st order), 1.11 (2nd order), or 1.05 (3rd order).\n",
    "\n",
    "In general, velocity, position, or pitch-or-roll error from the accelerometer or gyro white noise will be smaller than the other described noise sources (such as bias or scale-factor error)."
   ]
  },
  {
   "cell_type": "code",
   "execution_count": 20,
   "metadata": {
    "collapsed": true
   },
   "outputs": [],
   "source": [
    "from __future__ import division\n",
    "from math import pi\n",
    "from IPython.display import HTML, display"
   ]
  },
  {
   "cell_type": "code",
   "execution_count": 21,
   "metadata": {
    "collapsed": true
   },
   "outputs": [],
   "source": [
    "def makeTable(data):\n",
    "    \"\"\"\n",
    "    http://stackoverflow.com/questions/35160256/how-do-i-output-lists-as-a-table-in-jupyter-notebook\n",
    "    \"\"\"\n",
    "    return HTML(\n",
    "    '<table><tr>{}</tr></table>'.format(\n",
    "        '</tr><tr>'.join(\n",
    "            '<td>{}</td>'.format('</td><td>'.join(str(_) for _ in row)) for row in data)\n",
    "        )\n",
    "     )"
   ]
  },
  {
   "cell_type": "markdown",
   "metadata": {},
   "source": [
    "## Accelerometer\n",
    "\n",
    "Accelerometers measure gravity and inertial forces placed on our system. To estimate system-level velocity and position errors from accelerometer noise:\n",
    "\n",
    "$$\n",
    "VelocityError = Noise_{accel} * gravity * time \\\\\n",
    "PositionError = \\frac{1}{2} * Noise_{accel} * gravity * time^2\n",
    "$$"
   ]
  },
  {
   "cell_type": "code",
   "execution_count": 39,
   "metadata": {
    "collapsed": true
   },
   "outputs": [],
   "source": [
    "def accel_vel_error(n):\n",
    "    err = ['vel (m/s)']\n",
    "    for t in [1, 10, 60, 3600]:\n",
    "        e = n*9.81*t\n",
    "        err.append(e)\n",
    "    return err\n",
    "\n",
    "def accel_pos_error(n):\n",
    "    err = ['pos (m)']\n",
    "    for t in [1, 10, 60, 3600]:\n",
    "        e = 1/2*n*9.81*t**2\n",
    "        err.append(e)\n",
    "    return err"
   ]
  },
  {
   "cell_type": "code",
   "execution_count": 41,
   "metadata": {
    "collapsed": false
   },
   "outputs": [
    {
     "data": {
      "text/html": [
       "<table><tr><td></td><td>1 sec</td><td>10 sec</td><td>60 sec</td><td>3600 sec</td></tr><tr><td>vel (m/s)</td><td>0.002943</td><td>0.02943</td><td>0.17658</td><td>10.5948</td></tr><tr><td>pos (m)</td><td>0.0014715</td><td>0.14715</td><td>5.2974</td><td>19070.64</td></tr></table>"
      ],
      "text/plain": [
       "<IPython.core.display.HTML object>"
      ]
     },
     "metadata": {},
     "output_type": "display_data"
    }
   ],
   "source": [
    "verr = accel_vel_error(300e-6)  # 300 ug/sqr(Hz) from MPU-9250 sensor\n",
    "perr = accel_pos_error(300e-6)\n",
    "data = [['', '1 sec', '10 sec', '60 sec', '3600 sec'], verr, perr]\n",
    "table = makeTable(data)\n",
    "display(table)"
   ]
  },
  {
   "cell_type": "markdown",
   "metadata": {},
   "source": [
    "## Gyro\n",
    "\n",
    "Gyro noise creates orientation angle errors for an INS or AHRS, which again negatively affect the projection of the gravity vector and results in velocity and position error. To estimate system-level velocity and position errors from gyro noise:\n",
    "\n",
    "$$\n",
    "VelocityError = \\frac{1}{2} * Noise_{gyro} * \\frac{\\pi}{180} * gravity * time^2 \\\\\n",
    "PositionError = \\frac{1}{6} * Noise_{gyro} * \\frac{\\pi}{180} * gravity * time^3\n",
    "$$"
   ]
  },
  {
   "cell_type": "code",
   "execution_count": 32,
   "metadata": {
    "collapsed": true
   },
   "outputs": [],
   "source": [
    "def gyro_vel_error(n):\n",
    "    err = ['vel (m/s)']\n",
    "    for t in [1, 10, 60, 3600]:\n",
    "        e = 1/2*n*pi/180*9.81*t**2\n",
    "        err.append(e)\n",
    "    return err\n",
    "\n",
    "def gyro_pos_error(n):\n",
    "    err = ['pos (m)']\n",
    "    for t in [1, 10, 60, 3600]:\n",
    "        e = 1/6*n*pi/180*9.81*t**3\n",
    "        err.append(e)\n",
    "    return err"
   ]
  },
  {
   "cell_type": "code",
   "execution_count": 36,
   "metadata": {
    "collapsed": false
   },
   "outputs": [],
   "source": [
    "verr = gyro_vel_error(0.01)  # gyro noise from mpu-9250 sensor\n",
    "perr = gyro_pos_error(0.01)"
   ]
  },
  {
   "cell_type": "code",
   "execution_count": 34,
   "metadata": {
    "collapsed": false
   },
   "outputs": [
    {
     "data": {
      "text/html": [
       "<table><tr><td></td><td>1 sec</td><td>10 sec</td><td>60 sec</td><td>3600 sec</td></tr><tr><td>vel (m/s)</td><td>0.000856083998103</td><td>0.0856083998103</td><td>3.08190239317</td><td>11094.8486154</td></tr><tr><td>pos (m)</td><td>0.000285361332701</td><td>0.285361332701</td><td>61.6380478634</td><td>13313818.3385</td></tr></table>"
      ],
      "text/plain": [
       "<IPython.core.display.HTML object>"
      ]
     },
     "metadata": {},
     "output_type": "display_data"
    }
   ],
   "source": [
    "data = [['', '1 sec', '10 sec', '60 sec', '3600 sec'], verr, perr]\n",
    "table = makeTable(data)\n",
    "display(table)"
   ]
  },
  {
   "cell_type": "markdown",
   "metadata": {},
   "source": [
    "## Conclusion\n",
    "\n",
    "We always want to pick IMU's with small noise errors, but gyro error effect the system more than any other error term. Thus, low noise and high ADC bits on the gyros are what you look for.  "
   ]
  },
  {
   "cell_type": "markdown",
   "metadata": {},
   "source": [
    "# References\n",
    "\n",
    "- [Evaluating inertial measurement units](http://www.edn.com/design/test-and-measurement/4389260/Evaluating-inertial-measurement-units)\n",
    "- [HOW TO EVALUATE THE PERFORMANCE OF AN INERTIAL MEASUREMENT UNIT (IMU)](http://www.3dlasermapping.com/how-to-assess-the-performance-of-an-inertial-measurement-unit-imu/)\n",
    "- [Vectornav.com Documentation](http://www.vectornav.com/products/vn-100/documentation)\n",
    "- [Wikipedia IMU](https://en.wikipedia.org/wiki/Inertial_measurement_unit)\n",
    "- [Kalman Filter](https://en.wikipedia.org/wiki/Kalman_filter)"
   ]
  },
  {
   "cell_type": "code",
   "execution_count": null,
   "metadata": {
    "collapsed": true
   },
   "outputs": [],
   "source": []
  },
  {
   "cell_type": "code",
   "execution_count": null,
   "metadata": {
    "collapsed": true
   },
   "outputs": [],
   "source": []
  },
  {
   "cell_type": "markdown",
   "metadata": {},
   "source": [
    "\n",
    "-----------\n",
    "\n",
    "<a rel=\"license\" href=\"http://creativecommons.org/licenses/by-sa/4.0/\"><img alt=\"Creative Commons License\" style=\"border-width:0\" src=\"https://i.creativecommons.org/l/by-sa/4.0/88x31.png\" /></a><br />This work is licensed under a <a rel=\"license\" href=\"http://creativecommons.org/licenses/by-sa/4.0/\">Creative Commons Attribution-ShareAlike 4.0 International License</a>."
   ]
  }
 ],
 "metadata": {
  "kernelspec": {
   "display_name": "Python 2",
   "language": "python",
   "name": "python2"
  },
  "language_info": {
   "codemirror_mode": {
    "name": "ipython",
    "version": 2
   },
   "file_extension": ".py",
   "mimetype": "text/x-python",
   "name": "python",
   "nbconvert_exporter": "python",
   "pygments_lexer": "ipython2",
   "version": "2.7.13"
  }
 },
 "nbformat": 4,
 "nbformat_minor": 2
}
