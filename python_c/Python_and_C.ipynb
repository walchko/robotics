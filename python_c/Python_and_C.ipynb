{
 "cells": [
  {
   "cell_type": "markdown",
   "metadata": {},
   "source": [
    "# Python and C\n",
    "\n",
    "---\n",
    "\n",
    "Simple example for combining python and C code together. To build the executable, `cmake` is used. Let's create a `c` file."
   ]
  },
  {
   "cell_type": "code",
   "execution_count": 15,
   "metadata": {
    "collapsed": false
   },
   "outputs": [
    {
     "name": "stdout",
     "output_type": "stream",
     "text": [
      "Overwriting hello.c\n"
     ]
    }
   ],
   "source": [
    "%%file hello.c\n",
    "\n",
    "#include <stdio.h>\n",
    "#include <math.h>\n",
    "\n",
    "int hello(int j);\n",
    "\n",
    "int hello(int j){\n",
    "    int i;\n",
    "    int sum = 0;\n",
    "    for(i=0; i<j; ++i){\n",
    "        sum += cos(0.1);\n",
    "        // printf(\"hello world: %d\\n\", sum);\n",
    "    }\n",
    "    \n",
    "    return sum;\n",
    "}"
   ]
  },
  {
   "cell_type": "markdown",
   "metadata": {},
   "source": [
    "Now let's use `cmake` to help us compile our program ... `MakeFiles` suck!"
   ]
  },
  {
   "cell_type": "code",
   "execution_count": 16,
   "metadata": {
    "collapsed": false
   },
   "outputs": [
    {
     "name": "stdout",
     "output_type": "stream",
     "text": [
      "Overwriting CMakeLists.txt\n"
     ]
    }
   ],
   "source": [
    "%%file CMakeLists.txt\n",
    "\n",
    "cmake_minimum_required (VERSION 3.7)\n",
    "project(HELLO)\n",
    "set(CMAKE_BUILD_TYPE Release)\n",
    "set(CMAKE_LIBRARY_OUTPUT_DIRECTORY ${CMAKE_SOURCE_DIR}/lib)\n",
    "\n",
    "IF( WIN32 )\n",
    "    MESSAGE(\"Windows not supported ... ha, ha, ha, your OS sucks!\")\n",
    "ELSE( WIN32 )\n",
    "    add_library(hello SHARED hello.c)\n",
    "ENDIF( WIN32 )"
   ]
  },
  {
   "cell_type": "markdown",
   "metadata": {},
   "source": [
    "Now, we want to separate our code and build artifacts so let's create a `build` directory. This keeps everything nice looking. It also allows us to delete `build` and start over from a clean state without having to worry about acidentally deleting something "
   ]
  },
  {
   "cell_type": "code",
   "execution_count": 17,
   "metadata": {
    "collapsed": false
   },
   "outputs": [],
   "source": [
    "!mkdir build"
   ]
  },
  {
   "cell_type": "code",
   "execution_count": 18,
   "metadata": {
    "collapsed": false
   },
   "outputs": [
    {
     "name": "stdout",
     "output_type": "stream",
     "text": [
      "-- The C compiler identification is AppleClang 8.0.0.8000042\n",
      "-- The CXX compiler identification is AppleClang 8.0.0.8000042\n",
      "-- Check for working C compiler: /Library/Developer/CommandLineTools/usr/bin/cc\n",
      "-- Check for working C compiler: /Library/Developer/CommandLineTools/usr/bin/cc -- works\n",
      "-- Detecting C compiler ABI info\n",
      "-- Detecting C compiler ABI info - done\n",
      "-- Detecting C compile features\n",
      "-- Detecting C compile features - done\n",
      "-- Check for working CXX compiler: /Library/Developer/CommandLineTools/usr/bin/c++\n",
      "-- Check for working CXX compiler: /Library/Developer/CommandLineTools/usr/bin/c++ -- works\n",
      "-- Detecting CXX compiler ABI info\n",
      "-- Detecting CXX compiler ABI info - done\n",
      "-- Detecting CXX compile features\n",
      "-- Detecting CXX compile features - done\n",
      "-- Configuring done\n",
      "-- Generating done\n",
      "-- Build files have been written to: /Users/kevin/github/robotics/python_c/build\n"
     ]
    }
   ],
   "source": [
    "!cd build && cmake .."
   ]
  },
  {
   "cell_type": "code",
   "execution_count": 19,
   "metadata": {
    "collapsed": false
   },
   "outputs": [
    {
     "name": "stdout",
     "output_type": "stream",
     "text": [
      "\u001b[35m\u001b[1mScanning dependencies of target hello\u001b[0m\n",
      "[ 50%] \u001b[32mBuilding C object CMakeFiles/hello.dir/hello.c.o\u001b[0m\n",
      "[100%] \u001b[32m\u001b[1mLinking C shared library ../lib/libhello.dylib\u001b[0m\n",
      "[100%] Built target hello\n"
     ]
    }
   ],
   "source": [
    "!cd build && make"
   ]
  },
  {
   "cell_type": "code",
   "execution_count": 20,
   "metadata": {
    "collapsed": false
   },
   "outputs": [
    {
     "name": "stdout",
     "output_type": "stream",
     "text": [
      "./lib/libhello.dylib: Mach-O 64-bit dynamically linked shared library x86_64\r\n"
     ]
    }
   ],
   "source": [
    "!file ./lib/libhello.dylib"
   ]
  },
  {
   "cell_type": "code",
   "execution_count": 14,
   "metadata": {
    "collapsed": false
   },
   "outputs": [
    {
     "name": "stdout",
     "output_type": "stream",
     "text": [
      "Overwriting hello.py\n"
     ]
    }
   ],
   "source": [
    "%%file hello.py\n",
    "\n",
    "import numpy\n",
    "import ctypes\n",
    "\n",
    "_libhello = numpy.ctypeslib.load_library('libhello', './lib')\n",
    "\n",
    "_libhello.hello.argtypes = [ctypes.c_int]\n",
    "_libhello.hello.restype  =  ctypes.c_int\n",
    "\n",
    "def hello(n):\n",
    "    return _libhello.hello(int(n))"
   ]
  },
  {
   "cell_type": "code",
   "execution_count": 5,
   "metadata": {
    "collapsed": true
   },
   "outputs": [],
   "source": [
    "import hello"
   ]
  },
  {
   "cell_type": "code",
   "execution_count": 6,
   "metadata": {
    "collapsed": false
   },
   "outputs": [
    {
     "data": {
      "text/plain": [
       "0"
      ]
     },
     "execution_count": 6,
     "metadata": {},
     "output_type": "execute_result"
    }
   ],
   "source": [
    "hello.hello(1000)"
   ]
  },
  {
   "cell_type": "code",
   "execution_count": null,
   "metadata": {
    "collapsed": false
   },
   "outputs": [],
   "source": [
    "!ls"
   ]
  },
  {
   "cell_type": "code",
   "execution_count": 7,
   "metadata": {
    "collapsed": false
   },
   "outputs": [
    {
     "name": "stdout",
     "output_type": "stream",
     "text": [
      "The slowest run took 13.16 times longer than the fastest. This could mean that an intermediate result is being cached.\n",
      "100000 loops, best of 3: 7.06 µs per loop\n"
     ]
    }
   ],
   "source": [
    "timeit hello.hello(1000)"
   ]
  },
  {
   "cell_type": "code",
   "execution_count": null,
   "metadata": {
    "collapsed": true
   },
   "outputs": [],
   "source": [
    "# Let's make a pure python example for comparison\n",
    "from math import cos\n",
    "\n",
    "def hellotest(n):\n",
    "    sum = 0\n",
    "    for i in range(n):\n",
    "        sum += cos(0.1)\n",
    "    return sum"
   ]
  },
  {
   "cell_type": "code",
   "execution_count": null,
   "metadata": {
    "collapsed": false
   },
   "outputs": [],
   "source": [
    "timeit hellotest(1000)"
   ]
  },
  {
   "cell_type": "code",
   "execution_count": null,
   "metadata": {
    "collapsed": true
   },
   "outputs": [],
   "source": []
  },
  {
   "cell_type": "code",
   "execution_count": null,
   "metadata": {
    "collapsed": false
   },
   "outputs": [],
   "source": []
  },
  {
   "cell_type": "markdown",
   "metadata": {},
   "source": [
    "http://stackoverflow.com/questions/24071491/how-can-i-make-a-python-wheel-from-an-existing-native-library\n",
    "\n",
    "\n",
    "project:\n",
    "\n",
    "    MD5\n",
    "    │   setup.py\n",
    "    │\n",
    "    └───md5\n",
    "        __init__.py   \n",
    "        libeay32.dll\n",
    "        \n",
    "`setup.py`:\n",
    "\n",
    "    from setuptools import setup, Distribution\n",
    "\n",
    "\n",
    "    class BinaryDistribution(Distribution):\n",
    "        def has_ext_modules(foo):\n",
    "            return True\n",
    "\n",
    "\n",
    "    setup(\n",
    "        name='md5',\n",
    "        version='1.0',\n",
    "        description='MD5 Library',\n",
    "        packages=['md5'],\n",
    "        package_data={\n",
    "            'md5': ['libeay32.dll'],\n",
    "        },\n",
    "        distclass=BinaryDistribution\n",
    "    )\n",
    "\n",
    "`__init__.py`:\n",
    "\n",
    "    lib_path = os.path.join(os.path.dirname(__file__), 'libeay32.dll')\n",
    "    lib = CDLL(lib_path)"
   ]
  },
  {
   "cell_type": "code",
   "execution_count": null,
   "metadata": {
    "collapsed": false
   },
   "outputs": [],
   "source": []
  },
  {
   "cell_type": "code",
   "execution_count": null,
   "metadata": {
    "collapsed": false
   },
   "outputs": [],
   "source": []
  },
  {
   "cell_type": "code",
   "execution_count": null,
   "metadata": {
    "collapsed": true
   },
   "outputs": [],
   "source": []
  }
 ],
 "metadata": {
  "kernelspec": {
   "display_name": "Python 2",
   "language": "python",
   "name": "python2"
  },
  "language_info": {
   "codemirror_mode": {
    "name": "ipython",
    "version": 2
   },
   "file_extension": ".py",
   "mimetype": "text/x-python",
   "name": "python",
   "nbconvert_exporter": "python",
   "pygments_lexer": "ipython2",
   "version": "2.7.13"
  }
 },
 "nbformat": 4,
 "nbformat_minor": 2
}
